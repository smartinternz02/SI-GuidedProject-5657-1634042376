{
 "cells": [
  {
   "cell_type": "code",
   "execution_count": 13,
   "id": "52283577",
   "metadata": {},
   "outputs": [
    {
     "name": "stdout",
     "output_type": "stream",
     "text": [
      "Requirement already satisfied: watson-machine-learning-client in c:\\users\\bhara\\anaconda3\\lib\\site-packages (1.0.391)\n",
      "Requirement already satisfied: boto3 in c:\\users\\bhara\\anaconda3\\lib\\site-packages (from watson-machine-learning-client) (1.20.2)\n",
      "Requirement already satisfied: ibm-cos-sdk in c:\\users\\bhara\\anaconda3\\lib\\site-packages (from watson-machine-learning-client) (2.7.0)\n",
      "Requirement already satisfied: requests in c:\\users\\bhara\\anaconda3\\lib\\site-packages (from watson-machine-learning-client) (2.26.0)\n",
      "Requirement already satisfied: tabulate in c:\\users\\bhara\\anaconda3\\lib\\site-packages (from watson-machine-learning-client) (0.8.9)\n",
      "Requirement already satisfied: lomond in c:\\users\\bhara\\anaconda3\\lib\\site-packages (from watson-machine-learning-client) (0.3.3)\n",
      "Requirement already satisfied: tqdm in c:\\users\\bhara\\anaconda3\\lib\\site-packages (from watson-machine-learning-client) (4.59.0)\n",
      "Requirement already satisfied: certifi in c:\\users\\bhara\\anaconda3\\lib\\site-packages (from watson-machine-learning-client) (2020.12.5)\n",
      "Requirement already satisfied: urllib3 in c:\\users\\bhara\\anaconda3\\lib\\site-packages (from watson-machine-learning-client) (1.26.7)\n",
      "Requirement already satisfied: pandas in c:\\users\\bhara\\anaconda3\\lib\\site-packages (from watson-machine-learning-client) (1.2.4)\n",
      "Requirement already satisfied: s3transfer<0.6.0,>=0.5.0 in c:\\users\\bhara\\anaconda3\\lib\\site-packages (from boto3->watson-machine-learning-client) (0.5.0)\n",
      "Requirement already satisfied: botocore<1.24.0,>=1.23.2 in c:\\users\\bhara\\anaconda3\\lib\\site-packages (from boto3->watson-machine-learning-client) (1.23.2)\n",
      "Requirement already satisfied: jmespath<1.0.0,>=0.7.1 in c:\\users\\bhara\\anaconda3\\lib\\site-packages (from boto3->watson-machine-learning-client) (0.10.0)\n",
      "Requirement already satisfied: python-dateutil<3.0.0,>=2.1 in c:\\users\\bhara\\anaconda3\\lib\\site-packages (from botocore<1.24.0,>=1.23.2->boto3->watson-machine-learning-client) (2.8.1)\n",
      "Requirement already satisfied: six>=1.5 in c:\\users\\bhara\\anaconda3\\lib\\site-packages (from python-dateutil<3.0.0,>=2.1->botocore<1.24.0,>=1.23.2->boto3->watson-machine-learning-client) (1.15.0)\n",
      "Requirement already satisfied: ibm-cos-sdk-s3transfer==2.7.0 in c:\\users\\bhara\\anaconda3\\lib\\site-packages (from ibm-cos-sdk->watson-machine-learning-client) (2.7.0)\n",
      "Requirement already satisfied: ibm-cos-sdk-core==2.7.0 in c:\\users\\bhara\\anaconda3\\lib\\site-packages (from ibm-cos-sdk->watson-machine-learning-client) (2.7.0)\n",
      "Requirement already satisfied: docutils<0.16,>=0.10 in c:\\users\\bhara\\anaconda3\\lib\\site-packages (from ibm-cos-sdk-core==2.7.0->ibm-cos-sdk->watson-machine-learning-client) (0.15.2)\n",
      "Requirement already satisfied: charset-normalizer~=2.0.0 in c:\\users\\bhara\\anaconda3\\lib\\site-packages (from requests->watson-machine-learning-client) (2.0.7)\n",
      "Requirement already satisfied: idna<4,>=2.5 in c:\\users\\bhara\\anaconda3\\lib\\site-packages (from requests->watson-machine-learning-client) (2.10)\n",
      "Requirement already satisfied: numpy>=1.16.5 in c:\\users\\bhara\\anaconda3\\lib\\site-packages (from pandas->watson-machine-learning-client) (1.19.5)\n",
      "Requirement already satisfied: pytz>=2017.3 in c:\\users\\bhara\\anaconda3\\lib\\site-packages (from pandas->watson-machine-learning-client) (2021.1)\n"
     ]
    }
   ],
   "source": [
    "!pip install watson-machine-learning-client\n"
   ]
  },
  {
   "cell_type": "code",
   "execution_count": 14,
   "id": "4b1cb39e",
   "metadata": {},
   "outputs": [],
   "source": [
    "from ibm_watson_machine_learning import APIClient\n",
    "wml_credentials={\n",
    "                \"url\":\"https://us-south.ml.cloud.ibm.com\",\n",
    "                 \"apikey\":\"ZBjsMuX8NYr_t4pgXzWBv6SjwUYRdaS6AvekL_sGm8Jc\"\n",
    "                }\n",
    "client=APIClient(wml_credentials)"
   ]
  },
  {
   "cell_type": "code",
   "execution_count": 15,
   "id": "b00b9e1d",
   "metadata": {},
   "outputs": [],
   "source": [
    "client=APIClient(wml_credentials)"
   ]
  },
  {
   "cell_type": "code",
   "execution_count": 16,
   "id": "73aca44f",
   "metadata": {},
   "outputs": [],
   "source": [
    "def guid_from_space_name(client,space_name):\n",
    "    space=client.spacesget_details()\n",
    "    return(next(item for item in space['resources'] if item['entity']['name']==space_name)['metadata']['id'])"
   ]
  },
  {
   "cell_type": "code",
   "execution_count": 17,
   "id": "6e02ba65",
   "metadata": {},
   "outputs": [
    {
     "data": {
      "text/plain": [
       "'SUCCESS'"
      ]
     },
     "execution_count": 17,
     "metadata": {},
     "output_type": "execute_result"
    }
   ],
   "source": [
    "client.set.default_space('c8c8a177-424a-4232-8278-8de6d5107690')"
   ]
  },
  {
   "cell_type": "code",
   "execution_count": 19,
   "id": "75a1aaaf",
   "metadata": {},
   "outputs": [
    {
     "name": "stdout",
     "output_type": "stream",
     "text": [
      "Successfully saved model content to file: 'wildedibilityplants6.tar.gz'\n"
     ]
    },
    {
     "data": {
      "text/plain": [
       "'C:\\\\Users\\\\bhara\\\\Desktop\\\\training\\\\deeplearning\\\\flask/wildedibilityplants6.tar.gz'"
      ]
     },
     "execution_count": 19,
     "metadata": {},
     "output_type": "execute_result"
    }
   ],
   "source": [
    "client.repository.download('76e4d006-5ba4-42ca-b611-9c3a5ecef257','wildedibilityplants6.tar.gz')"
   ]
  },
  {
   "cell_type": "code",
   "execution_count": null,
   "id": "cf5197fe",
   "metadata": {},
   "outputs": [],
   "source": []
  }
 ],
 "metadata": {
  "kernelspec": {
   "display_name": "Python 3",
   "language": "python",
   "name": "python3"
  },
  "language_info": {
   "codemirror_mode": {
    "name": "ipython",
    "version": 3
   },
   "file_extension": ".py",
   "mimetype": "text/x-python",
   "name": "python",
   "nbconvert_exporter": "python",
   "pygments_lexer": "ipython3",
   "version": "3.8.8"
  }
 },
 "nbformat": 4,
 "nbformat_minor": 5
}
